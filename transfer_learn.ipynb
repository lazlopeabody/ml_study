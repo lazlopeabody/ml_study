{
  "cells": [
    {
      "cell_type": "markdown",
      "metadata": {
        "id": "view-in-github",
        "colab_type": "text"
      },
      "source": [
        "<a href=\"https://colab.research.google.com/github/lazlopeabody/ml_study/blob/master/transfer_learn.ipynb\" target=\"_parent\"><img src=\"https://colab.research.google.com/assets/colab-badge.svg\" alt=\"Open In Colab\"/></a>"
      ]
    },
    {
      "cell_type": "markdown",
      "metadata": {
        "id": "HZWW1bgTA9OE"
      },
      "source": [
        "USE PRE-Trained Models"
      ]
    },
    {
      "cell_type": "code",
      "source": [
        "import tensorflow"
      ],
      "metadata": {
        "id": "WP_Fh1RVBFEl"
      },
      "execution_count": 1,
      "outputs": []
    },
    {
      "cell_type": "code",
      "execution_count": 2,
      "metadata": {
        "id": "c_JWCOIJA9OL"
      },
      "outputs": [],
      "source": [
        "from tensorflow.keras.optimizers import RMSprop\n",
        "from tensorflow.keras import layers, Model\n",
        "from tensorflow.keras.applications.inception_v3 import InceptionV3\n",
        "from tensorflow.keras.preprocessing.image import ImageDataGenerator"
      ]
    },
    {
      "cell_type": "code",
      "execution_count": 3,
      "metadata": {
        "id": "BuoqTJEtA9OP"
      },
      "outputs": [],
      "source": [
        "import urllib\n",
        "import os\n",
        "import zipfile"
      ]
    },
    {
      "cell_type": "code",
      "execution_count": 9,
      "metadata": {
        "id": "fJC1dUrlA9OQ"
      },
      "outputs": [],
      "source": [
        "class myCallback(tensorflow.keras.callbacks.Callback):\n",
        "      def on_epoch_end(self, epoch, logs=None):\n",
        "        if(logs.get('accuracy')>0.98):\n",
        "            print(\"\\nTraining Accuracy == 98%\")\n",
        "            self.model.stop_training = True\n",
        "\n",
        "callbacks = myCallback()"
      ]
    },
    {
      "cell_type": "code",
      "execution_count": 5,
      "metadata": {
        "id": "6-6MfyGVA9OR"
      },
      "outputs": [],
      "source": [
        "weights_url = \"https://storage.googleapis.com/mledu-datasets/inception_v3_weights_tf_dim_ordering_tf_kernels_notop.h5\"\n",
        "weights_file = \"inception_v3.h5\""
      ]
    },
    {
      "cell_type": "code",
      "execution_count": 6,
      "metadata": {
        "colab": {
          "base_uri": "https://localhost:8080/"
        },
        "id": "WSs4kbaDA9OS",
        "outputId": "bf1b6fb7-6bb1-4599-8c6e-ed6aef85c1ce"
      },
      "outputs": [
        {
          "output_type": "execute_result",
          "data": {
            "text/plain": [
              "('inception_v3.h5', <http.client.HTTPMessage at 0x7f4182460150>)"
            ]
          },
          "metadata": {},
          "execution_count": 6
        }
      ],
      "source": [
        "urllib.request.urlretrieve(weights_url, weights_file)"
      ]
    },
    {
      "cell_type": "code",
      "execution_count": 12,
      "metadata": {
        "id": "bvNytTu0A9OX"
      },
      "outputs": [],
      "source": [
        "training_file_name = '/content/sample_data/dogs-vs-cats/train.zip'\n",
        "training_dir = '/content/sample_data/dogs-vs-cats/_train/'\n",
        "val_file_name = '/content/sample_data/dogs-vs-cats/test1.zip'\n",
        "val_dir = '/content/sample_data/dogs-vs-cats/_test1' "
      ]
    },
    {
      "cell_type": "code",
      "execution_count": 11,
      "metadata": {
        "id": "2c_Hu0JeA9OY"
      },
      "outputs": [],
      "source": [
        "val_zip_ref = zipfile.ZipFile(val_file_name, 'r')\n",
        "val_zip_ref.extractall(val_dir)\n",
        "val_zip_ref.close()"
      ]
    },
    {
      "cell_type": "code",
      "execution_count": 13,
      "metadata": {
        "id": "AznRipDsA9OY"
      },
      "outputs": [],
      "source": [
        "zip_ref = zipfile.ZipFile(training_file_name, 'r')\n",
        "zip_ref.extractall(training_dir)\n",
        "zip_ref.close()"
      ]
    },
    {
      "cell_type": "markdown",
      "source": [
        "Below is wehere we will tweak parameters to get after accuracy in the model, training the model to be more accuracte. "
      ],
      "metadata": {
        "id": "59xRuudcPE3n"
      }
    },
    {
      "cell_type": "code",
      "execution_count": 15,
      "metadata": {
        "colab": {
          "base_uri": "https://localhost:8080/"
        },
        "id": "yZ9w7iORA9OZ",
        "outputId": "910ea463-01da-4517-c861-176a8e81dac6"
      },
      "outputs": [
        {
          "output_type": "stream",
          "name": "stdout",
          "text": [
            "Found 25000 images belonging to 1 classes.\n",
            "Found 12500 images belonging to 1 classes.\n"
          ]
        }
      ],
      "source": [
        "train_datagen = ImageDataGenerator(\n",
        "    rescale=1.0/255,\n",
        "    rotation_range=40,\n",
        "    width_shift_range=0.2,\n",
        "    height_shift_range=0.2,\n",
        "    shear_range=0.2,\n",
        "    zoom_range=0.2,\n",
        "    horizontal_flip=True,\n",
        "    fill_mode='nearest',\n",
        "\n",
        ")\n",
        "\n",
        "train_generator = train_datagen.flow_from_directory(\n",
        "    training_dir,\n",
        "    batch_size=100,\n",
        "    class_mode='binary',\n",
        "    target_size=(150,150)\n",
        ")\n",
        "\n",
        "validation_datagen = ImageDataGenerator(rescale=1.0/255)\n",
        "\n",
        "validation_generator = validation_datagen.flow_from_directory(\n",
        "    val_dir,\n",
        "    batch_size=100,\n",
        "    class_mode='binary',\n",
        "    target_size=(150,150)\n",
        ")"
      ]
    },
    {
      "cell_type": "markdown",
      "source": [
        "Transfer Learning, using pre-trained google model"
      ],
      "metadata": {
        "id": "tVeSAdZbSL5L"
      }
    },
    {
      "cell_type": "code",
      "execution_count": 17,
      "metadata": {
        "id": "PIGVqKAQA9OT"
      },
      "outputs": [],
      "source": [
        "pre_trained_model = InceptionV3(\n",
        "    input_shape=(150,150,3),\n",
        "    include_top=False,\n",
        "    weights=None\n",
        ")"
      ]
    },
    {
      "cell_type": "code",
      "execution_count": 18,
      "metadata": {
        "id": "-4PYQTKGA9OU"
      },
      "outputs": [],
      "source": [
        "pre_trained_model.load_weights(weights_file)"
      ]
    },
    {
      "cell_type": "code",
      "execution_count": 19,
      "metadata": {
        "colab": {
          "base_uri": "https://localhost:8080/"
        },
        "id": "TYemQhWuA9OV",
        "outputId": "ca3c9048-b207-41d6-bffa-245121e1a641"
      },
      "outputs": [
        {
          "output_type": "stream",
          "name": "stdout",
          "text": [
            "last layer output shape:  (None, 7, 7, 768)\n"
          ]
        }
      ],
      "source": [
        "for layer in pre_trained_model.layers:\n",
        "    layer.trainable = False\n",
        "\n",
        "last_layer = pre_trained_model.get_layer('mixed7')\n",
        "print('last layer output shape: ', last_layer.output_shape)\n",
        "last_output = last_layer.output"
      ]
    },
    {
      "cell_type": "code",
      "execution_count": 20,
      "metadata": {
        "id": "YoJ-8P2kA9OW"
      },
      "outputs": [],
      "source": [
        "# flatten output layer to 1 dimension\n",
        "x = layers.Flatten()(last_output)\n",
        "# add full connected layer w/ 1024 hidden units and ReLU activation\n",
        "x = layers.Dense(1024, activation='relu')(x)\n",
        "# add final sigmoid layer for classification\n",
        "x = layers.Dense(1, activation='sigmoid')(x)"
      ]
    },
    {
      "cell_type": "code",
      "execution_count": 21,
      "metadata": {
        "id": "fQsBXxp2A9OX"
      },
      "outputs": [],
      "source": [
        "model = Model(pre_trained_model.input, x)\n",
        "model.compile(\n",
        "    optimizer=RMSprop(learning_rate=0.0001),\n",
        "    loss='binary_crossentropy',\n",
        "    metrics=['accuracy']\n",
        ")"
      ]
    },
    {
      "cell_type": "code",
      "execution_count": null,
      "metadata": {
        "colab": {
          "base_uri": "https://localhost:8080/"
        },
        "id": "j5wBEZGRA9Of",
        "outputId": "363ea329-4b58-42c6-f82e-7bc36a347ed0"
      },
      "outputs": [
        {
          "output_type": "stream",
          "name": "stdout",
          "text": [
            "Epoch 1/30\n",
            " 42/250 [====>.........................] - ETA: 16:17 - loss: 0.0210 - accuracy: 0.9826"
          ]
        }
      ],
      "source": [
        "history = model.fit(\n",
        "    train_generator,\n",
        "    validation_data=validation_generator,\n",
        "    epochs=30,\n",
        "    verbose=1,\n",
        "    callbacks=[myCallback()]\n",
        ")"
      ]
    }
  ],
  "metadata": {
    "kernelspec": {
      "display_name": "Python 3.10.6 ('ml_study')",
      "language": "python",
      "name": "python3"
    },
    "language_info": {
      "codemirror_mode": {
        "name": "ipython",
        "version": 3
      },
      "file_extension": ".py",
      "mimetype": "text/x-python",
      "name": "python",
      "nbconvert_exporter": "python",
      "pygments_lexer": "ipython3",
      "version": "3.10.6"
    },
    "orig_nbformat": 4,
    "vscode": {
      "interpreter": {
        "hash": "b8810a7413f7f351de354e5869f28bc3ee29614b978be8a5386f94d3d10b7f84"
      }
    },
    "colab": {
      "provenance": [],
      "include_colab_link": true
    }
  },
  "nbformat": 4,
  "nbformat_minor": 0
}